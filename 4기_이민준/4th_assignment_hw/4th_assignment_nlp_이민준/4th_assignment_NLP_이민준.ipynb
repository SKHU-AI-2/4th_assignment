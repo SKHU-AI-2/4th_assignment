{
  "nbformat": 4,
  "nbformat_minor": 0,
  "metadata": {
    "colab": {
      "provenance": []
    },
    "kernelspec": {
      "name": "python3",
      "display_name": "Python 3"
    },
    "language_info": {
      "name": "python"
    }
  },
  "cells": [
    {
      "cell_type": "markdown",
      "source": [
        "202014068_이민준"
      ],
      "metadata": {
        "id": "ZgIGdblL1op8"
      }
    },
    {
      "cell_type": "code",
      "source": [
        "import pandas as pd\n",
        "import re\n",
        "\n",
        "positive_words = ['좋다', '기분', '행복하다', '맛있는', '즐겁다', '사랑해', '감사', '멋지다', '예쁘다']\n",
        "negative_words = ['싫다', '별로', '지루했다', '실망했다', '어렵다', '짜증나', '화났다', '우울하다', '못생겼다']\n",
        "\n",
        "class Aurora3:\n",
        "    def __init__(self):\n",
        "        self.pos_dict = set(positive_words)\n",
        "        self.neg_dict = set(negative_words)\n",
        "\n",
        "    def tokenize(self, sentence):\n",
        "        return re.findall(r'\\b\\w+\\b', sentence)\n",
        "\n",
        "    def analyze(self, sentence):\n",
        "        tokens = self.tokenize(sentence)\n",
        "        pos_count = sum(1 for token in tokens if token in self.pos_dict)\n",
        "        neg_count = sum(1 for token in tokens if token in self.neg_dict)\n",
        "        total = pos_count + neg_count\n",
        "\n",
        "        score = (pos_count - neg_count) / total if total != 0 else 0\n",
        "        ratio = total / len(tokens) if tokens else 0\n",
        "\n",
        "        return score, ratio\n",
        "\n",
        "    def get_df(self, df):\n",
        "        scores, ratios = [], []\n",
        "        for sentence in df['sentence']:\n",
        "            score, ratio = self.analyze(sentence)\n",
        "            scores.append(score)\n",
        "            ratios.append(ratio)\n",
        "        df['score'] = scores\n",
        "        df['ratio'] = ratios\n",
        "        return df\n",
        "\n",
        "df = pd.read_csv('text_data_1.txt', header=None, names=['sentence'])\n",
        "\n",
        "analyzer = Aurora3()\n",
        "df = analyzer.get_df(df)\n",
        "\n",
        "print(df)"
      ],
      "metadata": {
        "colab": {
          "base_uri": "https://localhost:8080/"
        },
        "id": "x_BDWfSuxD8e",
        "outputId": "c6b0e5bd-b055-4a49-ce51-23ba8793e4e4"
      },
      "execution_count": 2,
      "outputs": [
        {
          "output_type": "stream",
          "name": "stdout",
          "text": [
            "                  sentence  score     ratio\n",
            "0    오늘 날씨가 너무 좋아서 기분이 좋다.    1.0  0.166667\n",
            "1  이 영화는 정말 별로였어. 너무 지루했다.   -1.0  0.166667\n",
            "2        맛있는 음식을 먹어서 행복하다.    1.0  0.500000\n",
            "3     이 책은 이해하기 어려워서 실망했다.   -1.0  0.200000\n"
          ]
        }
      ]
    }
  ]
}